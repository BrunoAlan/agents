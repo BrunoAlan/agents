{
 "cells": [
  {
   "cell_type": "code",
   "execution_count": 2,
   "id": "b9bf34c5",
   "metadata": {},
   "outputs": [],
   "source": [
    "from agents import Agent, Runner, function_tool, trace\n",
    "from dotenv import load_dotenv"
   ]
  },
  {
   "cell_type": "code",
   "execution_count": 3,
   "id": "c55abc89",
   "metadata": {},
   "outputs": [
    {
     "data": {
      "text/plain": [
       "True"
      ]
     },
     "execution_count": 3,
     "metadata": {},
     "output_type": "execute_result"
    }
   ],
   "source": [
    "load_dotenv(override=True)"
   ]
  },
  {
   "cell_type": "code",
   "execution_count": 7,
   "id": "3fea3308",
   "metadata": {},
   "outputs": [
    {
     "name": "stdout",
     "output_type": "stream",
     "text": [
      "The estimated price of a trip to New York is $300.\n"
     ]
    }
   ],
   "source": [
    "instructions = \"You are a helpful assistant. Your goal is to respond with the price of a trip.\"\n",
    "\n",
    "cities_prices = {\n",
    "    \"New York\": 300.0,\n",
    "    \"Los Angeles\": 400.0,\n",
    "    \"Chicago\": 250.0,\n",
    "    \"Houston\": 350.0\n",
    "}\n",
    "\n",
    "@function_tool\n",
    "def estimate_trip_price(city:str) -> float:\n",
    "  \"\"\"\n",
    "  Estimates the price of a trip to a specific city.\n",
    "  \"\"\"\n",
    "  return cities_prices.get(city, 0.0)\n",
    "\n",
    "my_agent = Agent(\n",
    "  name=\"Trip Price Estimator\",\n",
    "  instructions=instructions,\n",
    "  model=\"gpt-4o-mini\",\n",
    "  tools=[estimate_trip_price]\n",
    ")\n",
    "\n",
    "\n",
    "with trace(\"Trip Price Estimator\"):\n",
    "  result = await Runner.run(my_agent, \"New York\")\n",
    "\n",
    "print(result.final_output)\n"
   ]
  }
 ],
 "metadata": {
  "kernelspec": {
   "display_name": "agents (3.12.7)",
   "language": "python",
   "name": "python3"
  },
  "language_info": {
   "codemirror_mode": {
    "name": "ipython",
    "version": 3
   },
   "file_extension": ".py",
   "mimetype": "text/x-python",
   "name": "python",
   "nbconvert_exporter": "python",
   "pygments_lexer": "ipython3",
   "version": "3.12.7"
  }
 },
 "nbformat": 4,
 "nbformat_minor": 5
}
