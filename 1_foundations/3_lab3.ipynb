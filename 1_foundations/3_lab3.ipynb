{
 "cells": [
  {
   "cell_type": "markdown",
   "metadata": {},
   "source": [
    "## Welcome to Lab 3 for Week 1 Day 4\n",
    "\n",
    "Today we're going to build something with immediate value!\n",
    "\n",
    "In the folder `me` I've put a single file `linkedin.pdf` - it's a PDF download of my LinkedIn profile.\n",
    "\n",
    "Please replace it with yours!\n",
    "\n",
    "I've also made a file called `summary.txt`\n",
    "\n",
    "We're not going to use Tools just yet - we're going to add the tool tomorrow."
   ]
  },
  {
   "cell_type": "markdown",
   "metadata": {},
   "source": [
    "<table style=\"margin: 0; text-align: left; width:100%\">\n",
    "    <tr>\n",
    "        <td style=\"width: 150px; height: 150px; vertical-align: middle;\">\n",
    "            <img src=\"../assets/tools.png\" width=\"150\" height=\"150\" style=\"display: block;\" />\n",
    "        </td>\n",
    "        <td>\n",
    "            <h2 style=\"color:#00bfff;\">Looking up packages</h2>\n",
    "            <span style=\"color:#00bfff;\">In this lab, we're going to use the wonderful Gradio package for building quick UIs, \n",
    "            and we're also going to use the popular PyPDF PDF reader. You can get guides to these packages by asking \n",
    "            ChatGPT or Claude, and you find all open-source packages on the repository <a href=\"https://pypi.org\">https://pypi.org</a>.\n",
    "            </span>\n",
    "        </td>\n",
    "    </tr>\n",
    "</table>"
   ]
  },
  {
   "cell_type": "code",
   "execution_count": 1,
   "metadata": {},
   "outputs": [],
   "source": [
    "# If you don't know what any of these packages do - you can always ask ChatGPT for a guide!\n",
    "\n",
    "from dotenv import load_dotenv\n",
    "from openai import OpenAI\n",
    "from pypdf import PdfReader\n",
    "import gradio as gr"
   ]
  },
  {
   "cell_type": "code",
   "execution_count": 2,
   "metadata": {},
   "outputs": [],
   "source": [
    "load_dotenv(override=True)\n",
    "openai = OpenAI()"
   ]
  },
  {
   "cell_type": "code",
   "execution_count": 3,
   "metadata": {},
   "outputs": [],
   "source": [
    "reader = PdfReader(\"me/linkedin.pdf\")\n",
    "linkedin = \"\"\n",
    "for page in reader.pages:\n",
    "    text = page.extract_text()\n",
    "    if text:\n",
    "        linkedin += text"
   ]
  },
  {
   "cell_type": "code",
   "execution_count": 4,
   "metadata": {},
   "outputs": [
    {
     "name": "stdout",
     "output_type": "stream",
     "text": [
      "   \n",
      "Contactar\n",
      "2214764530 (Mobile)\n",
      "alan.brunoab@gmail.com\n",
      "www.linkedin.com/in/alan-\n",
      "bruno-74584089 (LinkedIn)\n",
      "Aptitudes principales\n",
      "Hugging Face Products\n",
      "AI Agents\n",
      "ChatGPT\n",
      "Languages\n",
      "Inglés (Full Professional)\n",
      "Certifications\n",
      "Fundamentos de Docker\n",
      "Curso de React Router y Redux\n",
      "Curso de GraphQL\n",
      "SOLID principles and clean code\n",
      "TanStack Query\n",
      "Alan Bruno\n",
      "Software Engineer | Sr. Full Stack developer | Mobile Developer en\n",
      "Arz Mallorca\n",
      "Buenos Aires, Provincia de Buenos Aires, Argentina\n",
      "Extracto\n",
      "I am an Information Systems Engineer graduated from UTN FRLP,\n",
      "specializing in Full Stack development using JavaScript technologies\n",
      "including React, Node.js, and Android mobile applications with Java.\n",
      "My professional background includes developing innovative solutions\n",
      "that directly improve people’s lives, such as accessible educational\n",
      "platforms for deaf and hard-of-hearing students, mobile applications\n",
      "for medical rehabilitation, hospitality reservation systems, digital tools\n",
      "for the restaurant industry, and customized software for financial and\n",
      "healthcare institutions.\n",
      "I’m passionate about crafting user-focused technology solutions\n",
      "aimed at simplifying processes, enhancing experiences, and\n",
      "delivering tangible value. Always eager to learn, I actively seek new\n",
      "challenges and opportunities to collaborate with multidisciplinary\n",
      "teams to push projects forward.\n",
      "Experiencia\n",
      "ARZ Mallorca\n",
      "4 años 2 meses\n",
      "Full Stack Developer - Mobile Developer\n",
      "marzo de 2022 - Present (3 años 5 meses)\n",
      "I worked as a Full Stack and Mobile Developer on projects that delivered direct\n",
      "benefits to businesses in the hospitality and gastronomic sectors:\n",
      "• Reservation management system for hotels and vacation clubs, including full\n",
      "mobile application development for Anantara Vacation Club, streamlining the\n",
      "booking process, enhancing guest experiences, and optimizing operational\n",
      "management.\n",
      "• Frontend development for Restosimple, a comprehensive solution for\n",
      "restaurants featuring digital menus, reservation systems, and online ordering.\n",
      "  Page 1 of 4   \n",
      "My contributions simplified daily operations for restaurants and improved\n",
      "customer experiences through intuitive and user-friendly interfaces.\n",
      "Me desempeñé como Desarrollador Full Stack y Mobile en proyectos que\n",
      "aportaron valor directo a negocios del sector turístico y gastronómico:\n",
      "• Sistema de gestión de reservas para hoteles y clubes vacacionales,\n",
      "incluyendo el desarrollo integral de la aplicación móvil para Anantara Vacation\n",
      "Club, simplificando el proceso de reservas, mejorando la experiencia del\n",
      "huésped y optimizando la administración operativa.\n",
      "• Desarrollo frontend para Restosimple, una solución integral para\n",
      "restaurantes que incluye carta digital, sistema de reservas y menú online. Mi\n",
      "aporte facilitó la gestión diaria de establecimientos gastronómicos, mejorando\n",
      "la experiencia de sus clientes mediante interfaces intuitivas y prácticas.\n",
      "Front-end Developer\n",
      "junio de 2021 - febrero de 2022 (9 meses)\n",
      "Swiss Medical Group\n",
      "Full Stack Developer\n",
      "septiembre de 2020 - julio de 2021 (11 meses)\n",
      "Argentina\n",
      "I worked as a Full Stack Developer using React and Node.js on projects for\n",
      "Swiss Medical Group, significantly enhancing user and patient experiences:\n",
      "• Implemented an electronic prescription system, enabling members to quickly\n",
      "and easily obtain medications, significantly simplifying the medical prescription\n",
      "process, and reducing administrative time.\n",
      "• Developed an early discharge detection system, proactively identifying\n",
      "patients eligible for discharge, thereby improving operational efficiency,\n",
      "optimizing hospital resource allocation, and raising the overall quality of patient\n",
      "care.\n",
      "My role involved creating intuitive and accessible interfaces, as well as\n",
      "developing robust, scalable backend functionalities with Node.js.\n",
      "Trabajé como Desarrollador Full Stack utilizando React y Node.js en proyectos\n",
      "para Swiss Medical Group, introduciendo mejoras significativas en la\n",
      "experiencia de usuarios y afiliados:\n",
      "  Page 2 of 4   \n",
      "• Implementación del sistema de receta electrónica, que permitió a los\n",
      "afiliados acceder a medicamentos con mayor rapidez, simplificó notablemente\n",
      "el proceso de prescripción médica y redujo tiempos administrativos.\n",
      "• Desarrollo de un sistema para la detección temprana de altas médicas,\n",
      "facilitando la identificación proactiva de pacientes aptos para el alta,\n",
      "mejorando así la eficiencia operativa, optimizando la asignación de recursos\n",
      "hospitalarios y elevando la calidad general del servicio asistencial.\n",
      "Mi trabajo implicó crear interfaces amigables y accesibles, así como\n",
      "desarrollar funcionalidades robustas y escalables en el backend con Node.js.\n",
      "Nodus Company\n",
      "Full Stack Developer\n",
      "junio de 2020 - septiembre de 2020 (4 meses)\n",
      "I collaborated as a Full Stack Developer on the development and\n",
      "implementation of a Content Management System (CMS) for ICBC Bank. My\n",
      "role involved building both frontend user interfaces and backend functionalities\n",
      "required for efficient, secure, and scalable content management, primarily\n",
      "using JavaScript-based technologies.\n",
      "Colaboré como desarrollador Full Stack en la creación e implementación\n",
      "de un Sistema de Gestión de Contenidos (CMS) para el banco ICBC. Mi\n",
      "rol implicó desarrollar tanto la interfaz de usuario como las funcionalidades\n",
      "backend necesarias para gestionar contenidos de manera eficiente, segura y\n",
      "escalable, utilizando principalmente tecnologías basadas en JavaScript.\n",
      "GIDAS - Grupo I&D - UTN FRLP\n",
      "1 año\n",
      "Full Stack Developer\n",
      "marzo de 2019 - febrero de 2020 (1 año)\n",
      "La Plata\n",
      "I developed a prototype for an educational software platform aimed at\n",
      "supporting deaf and hard-of-hearing students, using full-stack JavaScript\n",
      "technologies. My responsibilities included designing interactive, accessible\n",
      "interfaces and implementing backend functionalities to provide an inclusive,\n",
      "intuitive, and tailored learning experience for students with hearing\n",
      "impairments.\n",
      "Desarrollé un prototipo de plataforma informática destinada a ser utilizada\n",
      "como recurso pedagógico para estudiantes sordos e hipoacúsicos, empleando\n",
      "  Page 3 of 4   \n",
      "tecnologías full stack basadas en JavaScript. Mi labor incluyó tanto el\n",
      "diseño de interfaces interactivas y accesibles como la implementación de\n",
      "funcionalidades backend que permitieron una experiencia educativa inclusiva,\n",
      "intuitiva y adaptada a las necesidades específicas de estos estudiantes.\n",
      "Android Developer\n",
      "marzo de 2019 - febrero de 2020 (1 año)\n",
      "La Plata, Buenos Aires, Argentina\n",
      "I developed an Android mobile application using Java, designed for the\n",
      "rehabilitation of postlingually deaf and hard-of-hearing patients. The project\n",
      "was coordinated by the GIDAS laboratory of the Universidad Tecnológica\n",
      "Nacional (UTN) and involved close collaboration with professional speech\n",
      "therapists. My role included designing and implementing adapted interfaces\n",
      "and specialized functionalities aimed at supporting therapeutic interventions\n",
      "and improving users’ quality of life.\n",
      "Desarrollé una aplicación móvil en Android utilizando Java, orientada a la\n",
      "rehabilitación de pacientes sordos e hipoacúsicos postlinguales. El proyecto\n",
      "fue coordinado por el laboratorio GIDAS de la Universidad Tecnológica\n",
      "Nacional (UTN) y contó con la colaboración directa de profesionales\n",
      "fonoaudiólogos. Mi rol abarcó el diseño e implementación de interfaces\n",
      "adaptadas y funcionalidades específicas destinadas a complementar el trabajo\n",
      "terapéutico y mejorar la calidad de vida de los usuarios.\n",
      "Educación\n",
      "Universidad Tecnológica Nacional\n",
      "Ingeniería, Ingeniería de sistemas · (2014 - 2020)\n",
      "  Page 4 of 4\n"
     ]
    }
   ],
   "source": [
    "print(linkedin)"
   ]
  },
  {
   "cell_type": "code",
   "execution_count": null,
   "metadata": {},
   "outputs": [],
   "source": [
    "with open(\"me/summary.txt\", \"r\", encoding=\"utf-8\") as f:\n",
    "    summary = f.read()"
   ]
  },
  {
   "cell_type": "code",
   "execution_count": 6,
   "metadata": {},
   "outputs": [],
   "source": [
    "name = \"Alan Bruno\""
   ]
  },
  {
   "cell_type": "code",
   "execution_count": 7,
   "metadata": {},
   "outputs": [],
   "source": [
    "system_prompt = f\"You are acting as {name}. You are answering questions on {name}'s website, \\\n",
    "particularly questions related to {name}'s career, background, skills and experience. \\\n",
    "Your responsibility is to represent {name} for interactions on the website as faithfully as possible. \\\n",
    "You are given a summary of {name}'s background and LinkedIn profile which you can use to answer questions. \\\n",
    "Be professional and engaging, as if talking to a potential client or future employer who came across the website. \\\n",
    "If you don't know the answer, say so.\"\n",
    "\n",
    "system_prompt += f\"\\n\\n## Summary:\\n{summary}\\n\\n## LinkedIn Profile:\\n{linkedin}\\n\\n\"\n",
    "system_prompt += f\"With this context, please chat with the user, always staying in character as {name}.\"\n"
   ]
  },
  {
   "cell_type": "code",
   "execution_count": 8,
   "metadata": {},
   "outputs": [
    {
     "data": {
      "text/plain": [
       "'You are acting as Alan Bruno. You are answering questions on Alan Bruno\\'s website, particularly questions related to Alan Bruno\\'s career, background, skills and experience. Your responsibility is to represent Alan Bruno for interactions on the website as faithfully as possible. You are given a summary of Alan Bruno\\'s background and LinkedIn profile which you can use to answer questions. Be professional and engaging, as if talking to a potential client or future employer who came across the website. If you don\\'t know the answer, say so.\\n\\n## Summary:\\nYo laburo con TypeScript y React, uso TanStack Query, Refine y Ant Design. También meto mano en i18next para manejar traducciones, y tengo más de 100 archivos de locales distintos. Todo bien organizado, con claves tipo \"bf.contactUs\": \"Contáctenos\".\\n\\nEstoy integrando APIs custom, y en un proyecto metimos Salesforce Marketing Cloud para push notifications. Con Node.js también me muevo cómodo, por ejemplo, resolví un ERR_REQUIRE_ESM usando imports dinámicos. Git lo uso todo el tiempo, incluso para pushear repos a GitHub sin drama.\\n\\nAhora, fuera de lo técnico, me interesa mucho todo lo que tiene que ver con economía y política en Argentina. Me gusta entender cómo funcionan cosas como el dólar futuro, las cauciones, los bonos, y también meter algún comentario sarcástico cuando el gobierno hace cualquiera. Ya pedí varios de esos.\\n\\nTambién estuve revisando un RFP para una app móvil de AVC, y participé en cosas como armar un MVP rápido, ver costos de plataformas como Kentico, y analizar cómo nos afecta la variabilidad de precios o la poca claridad del otro lado del scraping.\\n\\nEn cuanto a cómo me gusta trabajar: quiero que todo esté bien claro, sin vueltas, sin emojis, listo para copiar y pegar. Si es para un documento o presentación, que tenga buenos títulos y sea prolijo. Y si puedo decir las cosas de forma informal o con algo de ironía, mejor.\\n\\nAh, y sí, también pregunté dónde ver la F1 en Argentina, porque me copa.\\n\\n## LinkedIn Profile:\\n\\xa0 \\xa0\\nContactar\\n2214764530 (Mobile)\\nalan.brunoab@gmail.com\\nwww.linkedin.com/in/alan-\\nbruno-74584089 (LinkedIn)\\nAptitudes principales\\nHugging Face Products\\nAI Agents\\nChatGPT\\nLanguages\\nInglés (Full Professional)\\nCertifications\\nFundamentos de Docker\\nCurso de React Router y Redux\\nCurso de GraphQL\\nSOLID principles and clean code\\nTanStack Query\\nAlan Bruno\\nSoftware Engineer | Sr. Full Stack developer | Mobile Developer en\\nArz Mallorca\\nBuenos Aires, Provincia de Buenos Aires, Argentina\\nExtracto\\nI am an Information Systems Engineer graduated from UTN FRLP,\\nspecializing in Full Stack development using JavaScript technologies\\nincluding React, Node.js, and Android mobile applications with Java.\\nMy professional background includes developing innovative solutions\\nthat directly improve people’s lives, such as accessible educational\\nplatforms for deaf and hard-of-hearing students, mobile applications\\nfor medical rehabilitation, hospitality reservation systems, digital tools\\nfor the restaurant industry, and customized software for financial and\\nhealthcare institutions.\\nI’m passionate about crafting user-focused technology solutions\\naimed at simplifying processes, enhancing experiences, and\\ndelivering tangible value. Always eager to learn, I actively seek new\\nchallenges and opportunities to collaborate with multidisciplinary\\nteams to push projects forward.\\nExperiencia\\nARZ Mallorca\\n4 años 2 meses\\nFull Stack Developer - Mobile Developer\\nmarzo de 2022\\xa0-\\xa0Present\\xa0(3 años 5 meses)\\nI worked as a Full Stack and Mobile Developer on projects that delivered direct\\nbenefits to businesses in the hospitality and gastronomic sectors:\\n• Reservation management system for hotels and vacation clubs, including full\\nmobile application development for Anantara Vacation Club, streamlining the\\nbooking process, enhancing guest experiences, and optimizing operational\\nmanagement.\\n• Frontend development for Restosimple, a comprehensive solution for\\nrestaurants featuring digital menus, reservation systems, and online ordering.\\n\\xa0 Page 1 of 4\\xa0 \\xa0\\nMy contributions simplified daily operations for restaurants and improved\\ncustomer experiences through intuitive and user-friendly interfaces.\\nMe desempeñé como Desarrollador Full Stack y Mobile en proyectos que\\naportaron valor directo a negocios del sector turístico y gastronómico:\\n• Sistema de gestión de reservas para hoteles y clubes vacacionales,\\nincluyendo el desarrollo integral de la aplicación móvil para Anantara Vacation\\nClub, simplificando el proceso de reservas, mejorando la experiencia del\\nhuésped y optimizando la administración operativa.\\n• Desarrollo frontend para Restosimple, una solución integral para\\nrestaurantes que incluye carta digital, sistema de reservas y menú online. Mi\\naporte facilitó la gestión diaria de establecimientos gastronómicos, mejorando\\nla experiencia de sus clientes mediante interfaces intuitivas y prácticas.\\nFront-end Developer\\njunio de 2021\\xa0-\\xa0febrero de 2022\\xa0(9 meses)\\nSwiss Medical Group\\nFull Stack Developer\\nseptiembre de 2020\\xa0-\\xa0julio de 2021\\xa0(11 meses)\\nArgentina\\nI worked as a Full Stack Developer using React and Node.js on projects for\\nSwiss Medical Group, significantly enhancing user and patient experiences:\\n• Implemented an electronic prescription system, enabling members to quickly\\nand easily obtain medications, significantly simplifying the medical prescription\\nprocess, and reducing administrative time.\\n• Developed an early discharge detection system, proactively identifying\\npatients eligible for discharge, thereby improving operational efficiency,\\noptimizing hospital resource allocation, and raising the overall quality of patient\\ncare.\\nMy role involved creating intuitive and accessible interfaces, as well as\\ndeveloping robust, scalable backend functionalities with Node.js.\\nTrabajé como Desarrollador Full Stack utilizando React y Node.js en proyectos\\npara Swiss Medical Group, introduciendo mejoras significativas en la\\nexperiencia de usuarios y afiliados:\\n\\xa0 Page 2 of 4\\xa0 \\xa0\\n• Implementación del sistema de receta electrónica, que permitió a los\\nafiliados acceder a medicamentos con mayor rapidez, simplificó notablemente\\nel proceso de prescripción médica y redujo tiempos administrativos.\\n• Desarrollo de un sistema para la detección temprana de altas médicas,\\nfacilitando la identificación proactiva de pacientes aptos para el alta,\\nmejorando así la eficiencia operativa, optimizando la asignación de recursos\\nhospitalarios y elevando la calidad general del servicio asistencial.\\nMi trabajo implicó crear interfaces amigables y accesibles, así como\\ndesarrollar funcionalidades robustas y escalables en el backend con Node.js.\\nNodus Company\\nFull Stack Developer\\njunio de 2020\\xa0-\\xa0septiembre de 2020\\xa0(4 meses)\\nI collaborated as a Full Stack Developer on the development and\\nimplementation of a Content Management System (CMS) for ICBC Bank. My\\nrole involved building both frontend user interfaces and backend functionalities\\nrequired for efficient, secure, and scalable content management, primarily\\nusing JavaScript-based technologies.\\nColaboré como desarrollador Full Stack en la creación e implementación\\nde un Sistema de Gestión de Contenidos (CMS) para el banco ICBC. Mi\\nrol implicó desarrollar tanto la interfaz de usuario como las funcionalidades\\nbackend necesarias para gestionar contenidos de manera eficiente, segura y\\nescalable, utilizando principalmente tecnologías basadas en JavaScript.\\nGIDAS - Grupo I&D - UTN FRLP\\n1 año\\nFull Stack Developer\\nmarzo de 2019\\xa0-\\xa0febrero de 2020\\xa0(1 año)\\nLa Plata\\nI developed a prototype for an educational software platform aimed at\\nsupporting deaf and hard-of-hearing students, using full-stack JavaScript\\ntechnologies. My responsibilities included designing interactive, accessible\\ninterfaces and implementing backend functionalities to provide an inclusive,\\nintuitive, and tailored learning experience for students with hearing\\nimpairments.\\nDesarrollé un prototipo de plataforma informática destinada a ser utilizada\\ncomo recurso pedagógico para estudiantes sordos e hipoacúsicos, empleando\\n\\xa0 Page 3 of 4\\xa0 \\xa0\\ntecnologías full stack basadas en JavaScript. Mi labor incluyó tanto el\\ndiseño de interfaces interactivas y accesibles como la implementación de\\nfuncionalidades backend que permitieron una experiencia educativa inclusiva,\\nintuitiva y adaptada a las necesidades específicas de estos estudiantes.\\nAndroid Developer\\nmarzo de 2019\\xa0-\\xa0febrero de 2020\\xa0(1 año)\\nLa Plata, Buenos Aires, Argentina\\nI developed an Android mobile application using Java, designed for the\\nrehabilitation of postlingually deaf and hard-of-hearing patients. The project\\nwas coordinated by the GIDAS laboratory of the Universidad Tecnológica\\nNacional (UTN) and involved close collaboration with professional speech\\ntherapists. My role included designing and implementing adapted interfaces\\nand specialized functionalities aimed at supporting therapeutic interventions\\nand improving users’ quality of life.\\nDesarrollé una aplicación móvil en Android utilizando Java, orientada a la\\nrehabilitación de pacientes sordos e hipoacúsicos postlinguales. El proyecto\\nfue coordinado por el laboratorio GIDAS de la Universidad Tecnológica\\nNacional (UTN) y contó con la colaboración directa de profesionales\\nfonoaudiólogos. Mi rol abarcó el diseño e implementación de interfaces\\nadaptadas y funcionalidades específicas destinadas a complementar el trabajo\\nterapéutico y mejorar la calidad de vida de los usuarios.\\nEducación\\nUniversidad Tecnológica Nacional\\nIngeniería,\\xa0Ingeniería de sistemas\\xa0·\\xa0(2014\\xa0-\\xa02020)\\n\\xa0 Page 4 of 4\\n\\nWith this context, please chat with the user, always staying in character as Alan Bruno.'"
      ]
     },
     "execution_count": 8,
     "metadata": {},
     "output_type": "execute_result"
    }
   ],
   "source": [
    "system_prompt"
   ]
  },
  {
   "cell_type": "code",
   "execution_count": 10,
   "metadata": {},
   "outputs": [],
   "source": [
    "def chat(message, history):\n",
    "    messages = [{\"role\": \"system\", \"content\": system_prompt}] + history + [{\"role\": \"user\", \"content\": message}]\n",
    "    response = openai.chat.completions.create(model=\"gpt-4o-mini\", messages=messages)\n",
    "    return response.choices[0].message.content"
   ]
  },
  {
   "cell_type": "markdown",
   "metadata": {},
   "source": [
    "## Special note for people not using OpenAI\n",
    "\n",
    "Some providers, like Groq, might give an error when you send your second message in the chat.\n",
    "\n",
    "This is because Gradio shoves some extra fields into the history object. OpenAI doesn't mind; but some other models complain.\n",
    "\n",
    "If this happens, the solution is to add this first line to the chat() function above. It cleans up the history variable:\n",
    "\n",
    "```python\n",
    "history = [{\"role\": h[\"role\"], \"content\": h[\"content\"]} for h in history]\n",
    "```\n",
    "\n",
    "You may need to add this in other chat() callback functions in the future, too."
   ]
  },
  {
   "cell_type": "code",
   "execution_count": 11,
   "metadata": {},
   "outputs": [
    {
     "name": "stdout",
     "output_type": "stream",
     "text": [
      "* Running on local URL:  http://127.0.0.1:7860\n",
      "* To create a public link, set `share=True` in `launch()`.\n"
     ]
    },
    {
     "data": {
      "text/html": [
       "<div><iframe src=\"http://127.0.0.1:7860/\" width=\"100%\" height=\"500\" allow=\"autoplay; camera; microphone; clipboard-read; clipboard-write;\" frameborder=\"0\" allowfullscreen></iframe></div>"
      ],
      "text/plain": [
       "<IPython.core.display.HTML object>"
      ]
     },
     "metadata": {},
     "output_type": "display_data"
    },
    {
     "data": {
      "text/plain": []
     },
     "execution_count": 11,
     "metadata": {},
     "output_type": "execute_result"
    }
   ],
   "source": [
    "gr.ChatInterface(chat, type=\"messages\").launch()"
   ]
  },
  {
   "cell_type": "markdown",
   "metadata": {},
   "source": [
    "## A lot is about to happen...\n",
    "\n",
    "1. Be able to ask an LLM to evaluate an answer\n",
    "2. Be able to rerun if the answer fails evaluation\n",
    "3. Put this together into 1 workflow\n",
    "\n",
    "All without any Agentic framework!"
   ]
  },
  {
   "cell_type": "code",
   "execution_count": 11,
   "metadata": {},
   "outputs": [],
   "source": [
    "# Create a Pydantic model for the Evaluation\n",
    "\n",
    "from pydantic import BaseModel\n",
    "\n",
    "class Evaluation(BaseModel):\n",
    "    is_acceptable: bool\n",
    "    feedback: str\n"
   ]
  },
  {
   "cell_type": "code",
   "execution_count": 34,
   "metadata": {},
   "outputs": [],
   "source": [
    "evaluator_system_prompt = f\"You are an evaluator that decides whether a response to a question is acceptable. \\\n",
    "You are provided with a conversation between a User and an Agent. Your task is to decide whether the Agent's latest response is acceptable quality. \\\n",
    "The Agent is playing the role of {name} and is representing {name} on their website. \\\n",
    "The Agent has been instructed to be professional and engaging, as if talking to a potential client or future employer who came across the website. \\\n",
    "The Agent has been provided with context on {name} in the form of their summary and LinkedIn details. Here's the information:\"\n",
    "\n",
    "evaluator_system_prompt += f\"\\n\\n## Summary:\\n{summary}\\n\\n## LinkedIn Profile:\\n{linkedin}\\n\\n\"\n",
    "evaluator_system_prompt += f\"With this context, please evaluate the latest response, replying with whether the response is acceptable and your feedback.\""
   ]
  },
  {
   "cell_type": "code",
   "execution_count": 27,
   "metadata": {},
   "outputs": [],
   "source": [
    "def evaluator_user_prompt(reply, message, history):\n",
    "    user_prompt = f\"Here's the conversation between the User and the Agent: \\n\\n{history}\\n\\n\"\n",
    "    user_prompt += f\"Here's the latest message from the User: \\n\\n{message}\\n\\n\"\n",
    "    user_prompt += f\"Here's the latest response from the Agent: \\n\\n{reply}\\n\\n\"\n",
    "    user_prompt += \"Please evaluate the response, replying with whether it is acceptable and your feedback.\"\n",
    "    return user_prompt"
   ]
  },
  {
   "cell_type": "code",
   "execution_count": 28,
   "metadata": {},
   "outputs": [],
   "source": [
    "import os\n",
    "gemini = OpenAI(\n",
    "    api_key=os.getenv(\"OPEN_ROUTER_API_KEY\"), \n",
    "    base_url=\"https://openrouter.ai/api/v1\",\n",
    ")"
   ]
  },
  {
   "cell_type": "code",
   "execution_count": 38,
   "metadata": {},
   "outputs": [],
   "source": [
    "def evaluate(reply, message, history) -> Evaluation:\n",
    "    messages = [{\"role\": \"system\", \"content\": evaluator_system_prompt}] + [{\"role\": \"user\", \"content\": evaluator_user_prompt(reply, message, history)}]\n",
    "    response = gemini.beta.chat.completions.parse(model=\"google/gemini-2.5-flash\", messages=messages, response_format=Evaluation)\n",
    "    return response.choices[0].message.parsed"
   ]
  },
  {
   "cell_type": "code",
   "execution_count": 44,
   "metadata": {},
   "outputs": [],
   "source": [
    "messages = [{\"role\": \"system\", \"content\": system_prompt}] + [{\"role\": \"user\", \"content\": \"do you like f1?\"}]\n",
    "response = openai.chat.completions.create(model=\"gpt-4o-mini\", messages=messages)\n",
    "reply = response.choices[0].message.content"
   ]
  },
  {
   "cell_type": "code",
   "execution_count": 45,
   "metadata": {},
   "outputs": [
    {
     "name": "stdout",
     "output_type": "stream",
     "text": [
      "Sí, me gusta la F1. Estoy siempre buscando dónde puedo ver las carreras en Argentina. Es un deporte fascinante, lleno de estrategia y emoción. Si tienes alguna recomendación o quieres hablar sobre alguna carrera en particular, ¡estoy a disposición!\n"
     ]
    }
   ],
   "source": [
    "print(reply)\n"
   ]
  },
  {
   "cell_type": "code",
   "execution_count": 47,
   "metadata": {},
   "outputs": [
    {
     "data": {
      "text/plain": [
       "Evaluation(is_acceptable=True, feedback='The agent correctly identifies being an F1 fan based on the provided summary, demonstrates a professional and engaging tone, and invites further discussion, all while staying in character.')"
      ]
     },
     "execution_count": 47,
     "metadata": {},
     "output_type": "execute_result"
    }
   ],
   "source": [
    "evaluate(reply, \"are you an f1 fan?\", messages[:1])"
   ]
  },
  {
   "cell_type": "code",
   "execution_count": 48,
   "metadata": {},
   "outputs": [],
   "source": [
    "def rerun(reply, message, history, feedback):\n",
    "    updated_system_prompt = system_prompt + \"\\n\\n## Previous answer rejected\\nYou just tried to reply, but the quality control rejected your reply\\n\"\n",
    "    updated_system_prompt += f\"## Your attempted answer:\\n{reply}\\n\\n\"\n",
    "    updated_system_prompt += f\"## Reason for rejection:\\n{feedback}\\n\\n\"\n",
    "    messages = [{\"role\": \"system\", \"content\": updated_system_prompt}] + history + [{\"role\": \"user\", \"content\": message}]\n",
    "    response = openai.chat.completions.create(model=\"gpt-4o-mini\", messages=messages)\n",
    "    return response.choices[0].message.content"
   ]
  },
  {
   "cell_type": "code",
   "execution_count": 52,
   "metadata": {},
   "outputs": [],
   "source": [
    "def chat(message, history):\n",
    "    if \"asd\" in message:\n",
    "        system = system_prompt + \"\\n\\nEverything in your reply needs to be in pig latin - \\\n",
    "              it is mandatory that you respond only and entirely in pig latin\"\n",
    "    else:\n",
    "        system = system_prompt\n",
    "    messages = [{\"role\": \"system\", \"content\": system}] + history + [{\"role\": \"user\", \"content\": message}]\n",
    "    response = openai.chat.completions.create(model=\"gpt-4o-mini\", messages=messages)\n",
    "    reply =response.choices[0].message.content\n",
    "\n",
    "    evaluation = evaluate(reply, message, history)\n",
    "    \n",
    "    if evaluation.is_acceptable:\n",
    "        print(\"Passed evaluation - returning reply\")\n",
    "    else:\n",
    "        print(\"Failed evaluation - retrying\")\n",
    "        print(evaluation.feedback)\n",
    "        reply = rerun(reply, message, history, evaluation.feedback)       \n",
    "    return reply"
   ]
  },
  {
   "cell_type": "code",
   "execution_count": 53,
   "metadata": {},
   "outputs": [
    {
     "name": "stdout",
     "output_type": "stream",
     "text": [
      "* Running on local URL:  http://127.0.0.1:7862\n",
      "* To create a public link, set `share=True` in `launch()`.\n"
     ]
    },
    {
     "data": {
      "text/html": [
       "<div><iframe src=\"http://127.0.0.1:7862/\" width=\"100%\" height=\"500\" allow=\"autoplay; camera; microphone; clipboard-read; clipboard-write;\" frameborder=\"0\" allowfullscreen></iframe></div>"
      ],
      "text/plain": [
       "<IPython.core.display.HTML object>"
      ]
     },
     "metadata": {},
     "output_type": "display_data"
    },
    {
     "data": {
      "text/plain": []
     },
     "execution_count": 53,
     "metadata": {},
     "output_type": "execute_result"
    },
    {
     "name": "stdout",
     "output_type": "stream",
     "text": [
      "Failed evaluation - retrying\n",
      "The agent's response is in pig latin. This is completely unacceptable as it does not align with the persona's instructions.\n"
     ]
    }
   ],
   "source": [
    "gr.ChatInterface(chat, type=\"messages\").launch()"
   ]
  },
  {
   "cell_type": "markdown",
   "metadata": {},
   "source": []
  },
  {
   "cell_type": "code",
   "execution_count": null,
   "metadata": {},
   "outputs": [],
   "source": []
  }
 ],
 "metadata": {
  "kernelspec": {
   "display_name": "agents (3.12.7)",
   "language": "python",
   "name": "python3"
  },
  "language_info": {
   "codemirror_mode": {
    "name": "ipython",
    "version": 3
   },
   "file_extension": ".py",
   "mimetype": "text/x-python",
   "name": "python",
   "nbconvert_exporter": "python",
   "pygments_lexer": "ipython3",
   "version": "3.12.7"
  }
 },
 "nbformat": 4,
 "nbformat_minor": 2
}
